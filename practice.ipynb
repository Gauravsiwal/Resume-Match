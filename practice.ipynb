{
 "cells": [
  {
   "cell_type": "code",
   "execution_count": 3,
   "id": "72fdcc7c",
   "metadata": {},
   "outputs": [],
   "source": [
    "# Loading PDF in python and converting it into a plain text"
   ]
  },
  {
   "cell_type": "code",
   "execution_count": 4,
   "id": "f946a953",
   "metadata": {},
   "outputs": [
    {
     "name": "stdout",
     "output_type": "stream",
     "text": [
      "Note: you may need to restart the kernel to use updated packages.\n"
     ]
    }
   ],
   "source": [
    "pip install pypdf -q"
   ]
  },
  {
   "cell_type": "code",
   "execution_count": 1,
   "id": "fcec8868",
   "metadata": {},
   "outputs": [],
   "source": [
    "from pypdf import PdfReader"
   ]
  },
  {
   "cell_type": "code",
   "execution_count": 3,
   "id": "e6960893",
   "metadata": {},
   "outputs": [],
   "source": [
    "pdf = PdfReader(r'D:\\resume\\resume_gaurav_siwal.pdf')"
   ]
  },
  {
   "cell_type": "code",
   "execution_count": 10,
   "id": "e06b9828",
   "metadata": {},
   "outputs": [],
   "source": [
    "df_text = ''\n",
    "for page in pdf.pages:\n",
    "    t = page.extract_text()\n",
    "    df_text+=t"
   ]
  },
  {
   "cell_type": "code",
   "execution_count": 12,
   "id": "4b149cb9",
   "metadata": {},
   "outputs": [
    {
     "name": "stdout",
     "output_type": "stream",
     "text": [
      "GAURAV SIWAL \n",
      "SENIOR DATA SCIENTIST \n",
      " \n",
      "--------------------------------------------------------------------------------------------------------------------------------------- \n",
      " \n",
      "Location: New Delhi    Contact: +91 7838508365   Email: gauravsiwalde@gmail.com \n",
      "Github:  Link   Linkedin: Link \n",
      " \n",
      "Professional Summary \n",
      "Senior Data Scientist with a decade of experience spanning both tech industry application and university-level instruction. \n",
      "Expert in leveraging advanced Data Science tools to solve complex business problems. Proven ability to build and deploy \n",
      "impactful data solutions, while mentoring teams and clearly communicating technical insights to all stakeholders. \n",
      " \n",
      "Work Experience \n",
      "Great Learning | Gurugram, Haryana               Senior Data Scientist | Oct 2024 – Present \n",
      "• Delivered 100+ hours/month of training in Python, Statistics, EDA, ML, AWS, and Gen AI as in-house faculty for \n",
      "the Domestic Data Science Program, earning 4.87/5 session ratings and ~70% NPS. \n",
      "• Contributed to program restructuring by developing content (Python OOPs, AWS, Gen AI) and collaborated on in-\n",
      "house AI products with the analytics team. \n",
      "                                                                             Data Scientist | Aug 2022 - Oct 2024 \n",
      "• Served as in-house faculty across multiple locations (Hyderabad, Bangalore, Pune, Chennai) for Data Science and \n",
      "Business Analytics programs, conducted lab sessions for the M.Tech program with PES Bangalore, and collaborated \n",
      "with Acad-Ops to develop ETL content. \n",
      "Teckstack | Saket, New Delhi                       Data Scientist | Aug 2021 – July 2022 \n",
      "• Designed and delivered comprehensive Data Science and AI programs for students and professionals, including 3-\n",
      "month internships on internal projects to support career transformation. \n",
      "DPG Institute of technology and Management | Gurugram Haryana                                 Oct-2018 – July 2021 \n",
      "• Assistant Professor (HOD Applied Science Department) \n",
      "Dronacharya Group Of Institutions | Greater Noida, Uttar Pradesh                                 Feb-2015 – April 2018 \n",
      "• Assistant Professor (HOD Mechanical Engineering Department) \n",
      " \n",
      "Education \n",
      "Post Graduate Diploma in Data Science | IMS Proschool, New Delhi              2019-2021 \n",
      "M.Tech, Engineering Physics | USBAS | GGSIP University, New Delhi                                                            2011-2013 \n",
      "B.tech Mechanical and Automation Engineering | ASET | GGSIP University (Affiliated) | New Delhi        2007 – 2011 \n",
      " Technical Skill Set \n",
      "• Programming & Data Manipulation : Proficient in Python (Expert) and SQL (Advanced) with hands -on \n",
      "experience in data manipulation using NumPy, Pandas, and Scikit-learn, and data visualization through Matplotlib, \n",
      "Seaborn, and Plotly. \n",
      "• Machine Learning & Deep Learning: Strong grasp of statistics, EDA, and predictive modeling with expertise in \n",
      "classical ML techniques (regression, classification, ensemble methods like XGBoost) and deep learning using ANN, \n",
      "CNN, RNN (LSTM) with TensorFlow and PyTorch. \n",
      "• Generative AI & NLP : Experienced in LLMs (Transformers, RAG), prompt engineering, fine -tuning, and \n",
      "evaluation. Skilled in NLP workflows including text preprocessing, vectorization, and embeddings using \n",
      "LangChain, Lama AI, Hugging Face, FAISS, and ChromaDB. \n",
      "• Cloud Computing & MLOps (AWS): Worked on end-to-end ML pipelines with Amazon SageMaker, leveraging \n",
      "EC2, S3, EBS, EFS for compute/storage, and RDS, Redshift for databases. Familiar with MLOps practices like \n",
      "CI/CD, model deployment, and monitoring in production environments. \n",
      "Projects \n",
      "AI Mock Interview Platform \n",
      "• Developed an in -house AI-powered mock interview system at Great Learning to automate learner assessments, \n",
      "allowing users to choose specific modules (like SQL, Python, ML) or roles (Data Analyst, Data Scientist), with \n",
      "support for both structured and adaptive interview modes. \n",
      "• Contributed to preparing and curating training data, as well as continuously testing and refining the model to \n",
      "enhance its performance and output quality. \n",
      "AI-Based Ticket Resolution System \n",
      "• Built an AI system to reduce support ticket response time and enhance resolution quality by training on historical \n",
      "ticket-response data, categorizing tickets into subcategories, and generating the top five resolutions using an LLM \n",
      "API with multi-shot prompting. \n",
      "• Handled end-to-end responsibilities including data preparation, cleaning, prompt engineering, and validating model \n",
      "outputs to ensure accurate and context-relevant suggestions. \n",
      "Sales Call Sentiment Analysis \n",
      "• Performed sentiment analysis on sales call recordings, conducted regular audits of sentiment scores, and provided \n",
      "feedback to sales teams to drive performance improvement. \n",
      "DSE Student Data Analysis \n",
      "• Analyzed academic and demographic data of DSE students to uncover patterns af fecting placement outcomes, \n",
      "developed a predictive model for individual placement probability, and supported stakeholders in making data -\n",
      "driven decisions to enhance placement strategies. \n",
      " \n",
      "  \n",
      " \n",
      " \n",
      " \n",
      " \n"
     ]
    }
   ],
   "source": [
    "print(df_text)"
   ]
  },
  {
   "cell_type": "code",
   "execution_count": null,
   "id": "ce7ea051",
   "metadata": {},
   "outputs": [],
   "source": []
  }
 ],
 "metadata": {
  "kernelspec": {
   "display_name": "base",
   "language": "python",
   "name": "python3"
  },
  "language_info": {
   "codemirror_mode": {
    "name": "ipython",
    "version": 3
   },
   "file_extension": ".py",
   "mimetype": "text/x-python",
   "name": "python",
   "nbconvert_exporter": "python",
   "pygments_lexer": "ipython3",
   "version": "3.13.5"
  }
 },
 "nbformat": 4,
 "nbformat_minor": 5
}
