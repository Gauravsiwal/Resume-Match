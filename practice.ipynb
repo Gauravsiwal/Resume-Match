{
 "cells": [
  {
   "cell_type": "code",
   "execution_count": 3,
   "id": "72fdcc7c",
   "metadata": {},
   "outputs": [],
   "source": [
    "# Loading PDF in python and converting it into a plain text"
   ]
  },
  {
   "cell_type": "code",
   "execution_count": 4,
   "id": "f946a953",
   "metadata": {},
   "outputs": [
    {
     "name": "stdout",
     "output_type": "stream",
     "text": [
      "Note: you may need to restart the kernel to use updated packages.\n"
     ]
    }
   ],
   "source": [
    "pip install pypdf -q"
   ]
  },
  {
   "cell_type": "code",
   "execution_count": 1,
   "id": "fcec8868",
   "metadata": {},
   "outputs": [],
   "source": [
    "from pypdf import PdfReader"
   ]
  },
  {
   "cell_type": "code",
   "execution_count": 3,
   "id": "e6960893",
   "metadata": {},
   "outputs": [],
   "source": [
    "pdf = PdfReader(r'D:\\resume\\resume_gaurav_siwal.pdf')"
   ]
  },
  {
   "cell_type": "code",
   "execution_count": 10,
   "id": "e06b9828",
   "metadata": {},
   "outputs": [],
   "source": [
    "df_text = ''\n",
    "for page in pdf.pages:\n",
    "    t = page.extract_text()\n",
    "    df_text+=t"
   ]
  },
  {
   "cell_type": "code",
   "execution_count": null,
   "id": "4b149cb9",
   "metadata": {},
   "outputs": [],
   "source": []
  },
  {
   "cell_type": "code",
   "execution_count": null,
   "id": "48e52fe2",
   "metadata": {},
   "outputs": [],
   "source": []
  }
 ],
 "metadata": {
  "kernelspec": {
   "display_name": "base",
   "language": "python",
   "name": "python3"
  },
  "language_info": {
   "codemirror_mode": {
    "name": "ipython",
    "version": 3
   },
   "file_extension": ".py",
   "mimetype": "text/x-python",
   "name": "python",
   "nbconvert_exporter": "python",
   "pygments_lexer": "ipython3",
   "version": "3.13.5"
  }
 },
 "nbformat": 4,
 "nbformat_minor": 5
}
